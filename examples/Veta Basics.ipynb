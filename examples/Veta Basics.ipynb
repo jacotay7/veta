{
 "cells": [
  {
   "attachments": {},
   "cell_type": "markdown",
   "metadata": {},
   "source": [
    "# Veta Basics\n",
    "\n",
    "Veta is comprised of three main components (called classes in computer science): the item, respondent, and survey. Each of these classes is designed around how an LEAS survey would typically be conducted with the idea being that the programmer should be able to simply and naturally score LEAS data. Additionally, veta implements a number of scoring methodologies that can be applied across entire surveys or just to responses of responents aswell as several basic analysis functions which can be applied to visualize survey data."
   ]
  },
  {
   "attachments": {},
   "cell_type": "markdown",
   "metadata": {},
   "source": [
    "### The Item Class\n",
    "\n",
    "The item class is used to hold the information corresponding to a single LEAS question response. For example, if the question was \"How would you feel if you received a poor grade on a test? How would the instructor feel?\" and the respondent answered, \"I would feel bad, and I don't think that the instructor would care.\", you could represent this in veta as follows:\n"
   ]
  },
  {
   "cell_type": "code",
   "execution_count": 6,
   "metadata": {},
   "outputs": [
    {
     "name": "stdout",
     "output_type": "stream",
     "text": [
      "Self: i would feel bad  and i don't think that the instructor would care \n",
      "Other: \n",
      "\n",
      "Self: i would feel bad  and\n",
      "Other: i don't think that the instructor would care \n",
      "\n"
     ]
    }
   ],
   "source": [
    "#Adding the veta directory to the environment path\n",
    "import sys\n",
    "sys.path.insert(0,'../')\n",
    "\n",
    "#Import the Item class\n",
    "from item import Item\n",
    "\n",
    "#Creates a new item. By default, the sentence is placed in the 'Self' category if not broken up manually\n",
    "new_item = Item(\"I would feel bad, and I don't think that the instructor would care.\")\n",
    "print(new_item)\n",
    "\n",
    "#Creates the same item but, the sentence is broken up manually into self and other components\n",
    "new_item = Item(\"I would feel bad, and\", \"I don't think that the instructor would care.\")\n",
    "print(new_item)"
   ]
  },
  {
   "attachments": {},
   "cell_type": "markdown",
   "metadata": {},
   "source": [
    "The item class requires you to manually break up the response into components that relate to the 'self' (i.e. I would feel bad) and components of the response which correspond to another party (i.e. they would feel good). This distinction is used for a subset of the availiable scoring modules and is not strictly required. If you do not plan to use those scoring modules (e.g. 3345), then just ignore this distinction. \n",
    "\n",
    "Once an item is created, you can score the item using scoring module (see Scoring) and add additional information that are related specifically to that response (e.g. time taken)."
   ]
  },
  {
   "cell_type": "code",
   "execution_count": 7,
   "metadata": {},
   "outputs": [
    {
     "name": "stdout",
     "output_type": "stream",
     "text": [
      "Self: i would feel bad  and\n",
      "Other: i don't think that the instructor would care \n",
      "time taken (sec): 85\n",
      "\n"
     ]
    }
   ],
   "source": [
    "new_item.add_additional_info(\"time taken (sec)\", 85)\n",
    "print(new_item)"
   ]
  },
  {
   "cell_type": "markdown",
   "metadata": {},
   "source": [
    "### The Respondent Class\n",
    "\n",
    "The respondent class holds all information corresponding to one respondent of an LEAS survey. This includes all of the LEAS items (question responses) as well as meta data about the respondent (e.g. age, gender, education). The following code initializes a respondent and highlights some basic functionality of the class."
   ]
  },
  {
   "cell_type": "code",
   "execution_count": 8,
   "metadata": {},
   "outputs": [
    {
     "name": "stdout",
     "output_type": "stream",
     "text": [
      "This is how you can get the respondent id: 1\n",
      "\n",
      "Respondent ID 1:\n",
      "\n",
      "Item 1:\n",
      "Self: this is a test item\n",
      "Other: hello\n",
      "\n",
      "Item 2:\n",
      "Self: i would feel bad  and\n",
      "Other: i don't think that the instructor would care \n",
      "time taken (sec): 85\n",
      "['Age', 'Education', 'Gender']\n",
      "[[ 0.  0.  0.]\n",
      " [ 0.  0.  0.]\n",
      " [30.  5.  1.]]\n"
     ]
    }
   ],
   "source": [
    "#Import the Item class\n",
    "from respondent import Respondent\n",
    "\n",
    "#Initialize a new respondent\n",
    "new_respondent = Respondent()\n",
    "#Each respondent you create has a unique ID based on the order they were created\n",
    "print(f\"This is how you can get the respondent id: {new_respondent.id}\\n\")\n",
    "\n",
    "#You can add items without initializing them yourself\n",
    "new_respondent.add_item(\"this is a test item\", \"hello\")\n",
    "\n",
    "#Or you can add existing items\n",
    "new_respondent.add_item(new_item)\n",
    "\n",
    "#At any time you can print the respondent and it will show you all of the item information\n",
    "print(new_respondent)\n",
    "\n",
    "#Add some meta data about the respondent. Must be numeric data\n",
    "new_respondent.add_additional_info(\"Age\", 30)\n",
    "new_respondent.add_additional_info(\"Gender\", 1)\n",
    "new_respondent.add_additional_info(\"Education\", 5)\n",
    "\n",
    "#To get all of the data, including total scores, you can convert the respondent info to an array\n",
    "#Each row corresponds to an item (the last row is cummulative/per_respondent information)\n",
    "#Each column corresponds to a type of information, in this example, they correspond to Age, Gender, and Education\n",
    "#After scoring, there will be additional columns with the per item and cummulative scores.\n",
    "new_resp_array = new_respondent.to_array()\n",
    "\n",
    "#When you convert to an array, you can access which columns are which with the col_names parameter.\n",
    "print(new_respondent.col_names)\n",
    "print(new_resp_array)\n"
   ]
  },
  {
   "cell_type": "markdown",
   "metadata": {},
   "source": [
    "### The Survey Class\n",
    "\n",
    "The survey class is used to hold all of the information which pertains to multiple LEAS respondents. Survey data can be read from Excel files for ease of use. The following demonstrates how to initialize a survey class manually, or read in the data from an Excel file."
   ]
  },
  {
   "cell_type": "code",
   "execution_count": 9,
   "metadata": {},
   "outputs": [
    {
     "name": "stdout",
     "output_type": "stream",
     "text": [
      "Respondent ID 2:\n",
      "\n",
      "Item 1:\n",
      "Self: first respondent first item\n",
      "Other: \n",
      "\n",
      "Item 2:\n",
      "Self: first respondent second item\n",
      "Other:\n",
      "\n",
      "Respondent ID 3:\n",
      "\n",
      "Item 1:\n",
      "Self: second respondent first item\n",
      "Other: \n",
      "\n",
      "Item 2:\n",
      "Self: second respondent second item\n",
      "Other:\n",
      "\n",
      "Respondent ID 1:\n",
      "\n",
      "Item 1:\n",
      "Self: this is a test item\n",
      "Other: hello\n",
      "\n",
      "Item 2:\n",
      "Self: i would feel bad  and\n",
      "Other: i don't think that the instructor would care \n",
      "time taken (sec): 85\n"
     ]
    }
   ],
   "source": [
    "#Import the Item class\n",
    "from survey import Survey\n",
    "\n",
    "#Initialize the Survey Object\n",
    "new_survey = Survey()\n",
    "\n",
    "#Add some respondents to the survey\n",
    "respondent1 = Respondent()\n",
    "respondent1.add_item(\"First respondent First Item\")\n",
    "respondent1.add_item(\"First respondent Second Item\")\n",
    "respondent1.add_additional_info(\"Age\", 15)\n",
    "respondent1.add_additional_info(\"Gender\", 0)\n",
    "respondent1.add_additional_info(\"Education\", 3)\n",
    "\n",
    "respondent2 = Respondent()\n",
    "respondent2.add_item(\"Second respondent First Item\")\n",
    "respondent2.add_item(\"Second respondent Second Item\")\n",
    "respondent2.add_additional_info(\"Age\", 57)\n",
    "respondent2.add_additional_info(\"Gender\", 1)\n",
    "respondent2.add_additional_info(\"Education\", 2)\n",
    "\n",
    "new_survey.add_respondent(respondent1)\n",
    "new_survey.add_respondent(respondent2)\n",
    "new_survey.add_respondent(new_respondent)\n",
    "\n",
    "#Display the survey info\n",
    "print(new_survey)\n"
   ]
  },
  {
   "cell_type": "code",
   "execution_count": 10,
   "metadata": {},
   "outputs": [
    {
     "name": "stdout",
     "output_type": "stream",
     "text": [
      "{'Age': array([15., 57., 30.]), 'Gender': array([0., 1., 1.]), 'Education': array([3., 2., 5.])}\n"
     ]
    }
   ],
   "source": [
    "#You can also compute a summary of all of the information in the survey, this will be more relevant when we look at scoring\n",
    "#It is important to note that if some of your repondents are missing information, it will not show up in the summary which\n",
    "#can be confusing during analysis\n",
    "new_survey.compute_summary()\n",
    "print(new_survey.summary)"
   ]
  },
  {
   "cell_type": "markdown",
   "metadata": {},
   "source": [
    "### Wordlists\n",
    "\n",
    "One of the most fundamental components of veta is actually scoring the LEAS items and respondents. Veta comes with a number of standard LEAS scoring methodologies as well as some non-standard methodologies that we came up with. The scoring modules are implemented as separate child classes of the ScoringModule class. Most of the scoring modules require an LEAS wordlist in order to work properly. Currently, wordlists must be read from a excel file with appropriate formatting (see wordlist.xlsx as an example). The following example shows how to initialize a Wordlist object and add it to a survey."
   ]
  },
  {
   "cell_type": "code",
   "execution_count": 11,
   "metadata": {},
   "outputs": [
    {
     "name": "stdout",
     "output_type": "stream",
     "text": [
      "Angst:               3\n",
      "enttäuscht:          3\n",
      "erleichtert:         3\n",
      "glücklich :          3\n",
      "gut:                 2\n",
      "Kopfschmerzen:       1\n",
      "Mitleid:             3\n",
      "schlecht:            2\n",
      "Schmerz:             1\n",
      "schuldig:            3\n",
      "traurig:             3\n",
      "weinen:              2\n",
      "weint:               2\n",
      "weinte:              2\n",
      "will:                3\n",
      "wollen:              3\n",
      "wollt:               3\n",
      "Wut:                 3\n",
      "wütend:              3\n",
      "zittern:             1\n",
      "\n"
     ]
    }
   ],
   "source": [
    "#Import the wordlist object \n",
    "from wordlist import Wordlist\n",
    "\n",
    "#Initialize the wordlist object\n",
    "new_wordlist = Wordlist(\"wordlist.xlsx\")\n",
    "\n",
    "#Adds the wordlist to all respondents/items in the survey\n",
    "#You can also add a wordlist to just a single item/respondent in an analogous way\n",
    "new_survey.add_wordlist(new_wordlist)\n",
    "\n",
    "#The wordlist got added recursively to the 'new_item' since it is part of the survey \n",
    "print(new_item.wordlist)"
   ]
  },
  {
   "cell_type": "markdown",
   "metadata": {},
   "source": [
    "### Scoring, and Scoring Modules\n",
    "\n",
    "The item, respondent, and survey classes all have the ability to be scored. Scoring a survey will score all of its respodents, and scoring a respondent will subsequently score all of its items. The easiest way to score an LEAS questionaire is to properly define a survey and then run the survey.score function for the desired modules. You can also individually score respondents and items."
   ]
  },
  {
   "cell_type": "code",
   "execution_count": 12,
   "metadata": {},
   "outputs": [
    {
     "name": "stdout",
     "output_type": "stream",
     "text": [
      "Self: gut will wut zittern test test test\n",
      "Other: \n",
      "allsum: 9\n",
      "highestN: 6\n",
      "\n",
      "{'Age': array([15., 57., 30.]), 'Gender': array([0., 1., 1.]), 'Education': array([3., 2., 5.]), 'allsum': array([0., 0., 0.]), 'highestN': array([0., 0., 0.])}\n"
     ]
    }
   ],
   "source": [
    "#Import the desired scoring methods\n",
    "from scoring_modules.allsum import allsum\n",
    "from scoring_modules.highestN import highestN\n",
    "\n",
    "#create an example item containing words from the example German wordlist\n",
    "example_item = Item(\"gut will wut zittern test test test\")\n",
    "\n",
    "#Add the example German Wordlist\n",
    "example_item.add_wordlist(new_wordlist)\n",
    "\n",
    "#Score the item using allsum, this will add the scores of the words \n",
    "# gut, will, wut, and zittern (2 + 3 + 3 + 1 = 9)\n",
    "example_item.score(allsum())\n",
    "\n",
    "#Score the item using highestN (N = 2), this will add the two highest scoring \n",
    "# words from the wordlist (will and wut) for a score of 3 + 3 = 6\n",
    "example_item.score(highestN(2))\n",
    "print(example_item)\n",
    "\n",
    "#You can put all of the scoring modules in a list and run them on an entire survey\n",
    "modules = [allsum(), highestN(4)]\n",
    "#This will recursively score all of the respondents and items in the entire survey with the allsum and highest4 modules\n",
    "new_survey.score(*modules)\n",
    "#Computes a summary of all of the scores and auxilary information\n",
    "new_survey.compute_summary()\n",
    "print(new_survey.summary)\n"
   ]
  },
  {
   "cell_type": "code",
   "execution_count": null,
   "metadata": {},
   "outputs": [],
   "source": []
  },
  {
   "cell_type": "code",
   "execution_count": null,
   "metadata": {},
   "outputs": [],
   "source": []
  },
  {
   "cell_type": "code",
   "execution_count": null,
   "metadata": {},
   "outputs": [],
   "source": []
  },
  {
   "cell_type": "code",
   "execution_count": null,
   "metadata": {},
   "outputs": [],
   "source": []
  }
 ],
 "metadata": {
  "kernelspec": {
   "display_name": "Python 3",
   "language": "python",
   "name": "python3"
  },
  "language_info": {
   "codemirror_mode": {
    "name": "ipython",
    "version": 3
   },
   "file_extension": ".py",
   "mimetype": "text/x-python",
   "name": "python",
   "nbconvert_exporter": "python",
   "pygments_lexer": "ipython3",
   "version": "3.10.9"
  },
  "orig_nbformat": 4,
  "vscode": {
   "interpreter": {
    "hash": "c2f610f15281af5cb48d9946ea6fc944bf7f3194e1c5110b7e3dffccd31f5179"
   }
  }
 },
 "nbformat": 4,
 "nbformat_minor": 2
}
