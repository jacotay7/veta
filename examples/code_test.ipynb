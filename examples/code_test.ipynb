{
 "cells": [
  {
   "cell_type": "code",
   "execution_count": 1,
   "metadata": {},
   "outputs": [],
   "source": [
    "import sys\n",
    "sys.path.append(\"../\")\n",
    "import numpy as np\n",
    "import matplotlib.pyplot as plt\n",
    "import wordlist"
   ]
  },
  {
   "cell_type": "code",
   "execution_count": 5,
   "metadata": {},
   "outputs": [
    {
     "name": "stdout",
     "output_type": "stream",
     "text": [
      "Angst:               3\n",
      "enttäuscht:          3\n",
      "erleichtert:         3\n",
      "glücklich :          3\n",
      "gut:                 2\n",
      "Kopfschmerzen:       1\n",
      "Mitleid:             3\n",
      "schlecht:            2\n",
      "Schmerz:             1\n",
      "schuldig:            3\n",
      "traurig:             3\n",
      "weinen:              2\n",
      "weint:               2\n",
      "weinte:              2\n",
      "will:                3\n",
      "wollen:              3\n",
      "wollt:               3\n",
      "Wut:                 3\n",
      "wütend:              3\n",
      "zittern:             1\n",
      "\n"
     ]
    }
   ],
   "source": [
    "\"\"\"\n",
    "Test Wordlist Class\n",
    "\"\"\"\n",
    "w = wordlist.Wordlist(\"wordlist.xlsx\")\n",
    "print(w)\n"
   ]
  },
  {
   "cell_type": "code",
   "execution_count": 6,
   "metadata": {},
   "outputs": [
    {
     "name": "stdout",
     "output_type": "stream",
     "text": [
      "\u001b[0;31mInit signature:\u001b[0m \u001b[0mwordlist\u001b[0m\u001b[0;34m.\u001b[0m\u001b[0mWordlist\u001b[0m\u001b[0;34m(\u001b[0m\u001b[0mfilename\u001b[0m\u001b[0;34m:\u001b[0m \u001b[0mstr\u001b[0m\u001b[0;34m)\u001b[0m \u001b[0;34m->\u001b[0m \u001b[0;32mNone\u001b[0m\u001b[0;34m\u001b[0m\u001b[0;34m\u001b[0m\u001b[0m\n",
      "\u001b[0;31mDocstring:\u001b[0m     \n",
      "A class to store and manipulate an eLEAS wordlist\n",
      "\n",
      "...\n",
      "\n",
      "Attributes\n",
      "----------\n",
      "words : numpy.array\n",
      "    a list of all words in the wordlist\n",
      "scores : numpy.array\n",
      "    the eLEAS score assigned to each of the words in the wordlist\n",
      "filename : str\n",
      "    the path to an excel file contatining a list of words and their associated LEAS score\n",
      "\n",
      "Methods\n",
      "-------\n",
      "get_wordlist_from_file(filename):\n",
      "    extracts the wordlist data from file\n",
      "\u001b[0;31mInit docstring:\u001b[0m\n",
      "Initializes the Wordlist class\n",
      "\n",
      "        Parameters:\n",
      "                filename (str): the path to an excel file contatining a list of words and their associated LEAS score\n",
      "\n",
      "        Returns:\n",
      "\u001b[0;31mFile:\u001b[0m           ~/veta/veta/wordlist.py\n",
      "\u001b[0;31mType:\u001b[0m           type\n",
      "\u001b[0;31mSubclasses:\u001b[0m     \n"
     ]
    }
   ],
   "source": [
    "?wordlist.Wordlist"
   ]
  },
  {
   "cell_type": "code",
   "execution_count": null,
   "metadata": {},
   "outputs": [],
   "source": []
  }
 ],
 "metadata": {
  "kernelspec": {
   "display_name": "Python 3.9.12 ('base')",
   "language": "python",
   "name": "python3"
  },
  "language_info": {
   "codemirror_mode": {
    "name": "ipython",
    "version": 3
   },
   "file_extension": ".py",
   "mimetype": "text/x-python",
   "name": "python",
   "nbconvert_exporter": "python",
   "pygments_lexer": "ipython3",
   "version": "3.9.12"
  },
  "orig_nbformat": 4,
  "vscode": {
   "interpreter": {
    "hash": "51acfa6005ffec5e74e71d844e0daa05d24ac78244a0bb1b7874b497027552e7"
   }
  }
 },
 "nbformat": 4,
 "nbformat_minor": 2
}
