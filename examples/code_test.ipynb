{
 "cells": [
  {
   "cell_type": "code",
   "execution_count": 1,
   "metadata": {},
   "outputs": [],
   "source": [
    "import numpy as np\n",
    "import matplotlib.pyplot as plt\n",
    "from veta.wordlist import Wordlist"
   ]
  },
  {
   "cell_type": "code",
   "execution_count": null,
   "metadata": {},
   "outputs": [],
   "source": [
    "\"\"\"\n",
    "Test Wordlist Class\n",
    "\"\"\"\n",
    "w = Wordlist(\"wordlist.xlsx\")\n",
    "print(w)"
   ]
  },
  {
   "cell_type": "code",
   "execution_count": null,
   "metadata": {},
   "outputs": [],
   "source": [
    "?Wordlist"
   ]
  },
  {
   "cell_type": "code",
   "execution_count": null,
   "metadata": {},
   "outputs": [],
   "source": [
    "from veta.survey import Survey\n",
    "\n",
    "example_survey = Survey(\"wordlist.xlsx\")\n",
    "\n",
    "example_survey.from_file(\"test.xlsx\")\n",
    "\n",
    "print(example_survey)"
   ]
  },
  {
   "cell_type": "code",
   "execution_count": null,
   "metadata": {},
   "outputs": [],
   "source": [
    "#Import the desired scoring methods\n",
    "from veta.scoring_modules.allsum import allsum\n",
    "from veta.scoring_modules.highestN import highestN\n",
    "from veta.scoring_modules._3345plus import _3345plus\n",
    "from veta.scoring_modules._334 import _334\n",
    "from veta.scoring_modules.mlr import mlr\n",
    "\n",
    "modules = [allsum(), highestN(4), _334(), _3345plus(), mlr()]\n",
    "\n",
    "example_survey.score(*modules)\n",
    "\n",
    "example_survey.compute_summary()\n",
    "\n",
    "print(example_survey.summary)\n",
    "\n",
    "example_survey.save(\"test2.xlsx\")"
   ]
  },
  {
   "cell_type": "code",
   "execution_count": null,
   "metadata": {},
   "outputs": [],
   "source": [
    "example_survey2 = Survey(\"wordlist.xlsx\")\n",
    "\n",
    "example_survey2.from_file(\"horizontal_leas.xlsx\", layout='horizontal')\n",
    "\n",
    "print(example_survey2)\n",
    "\n",
    "modules = [allsum(), highestN(4), _334(), _3345plus(), mlr()]\n",
    "\n",
    "example_survey2.score(*modules)\n",
    "\n",
    "example_survey2.compute_summary()\n",
    "\n",
    "print(example_survey2.summary)\n",
    "\n",
    "example_survey2.save(\"scored_horizontal_leas.xlsx\")"
   ]
  },
  {
   "cell_type": "code",
   "execution_count": null,
   "metadata": {},
   "outputs": [],
   "source": [
    "for res in example_survey2.respondents:\n",
    "    print(res)"
   ]
  },
  {
   "cell_type": "code",
   "execution_count": null,
   "metadata": {},
   "outputs": [],
   "source": [
    "json_survey = example_survey2.to_json()\n",
    "print(json_survey)\n",
    "\n",
    "example_survey2.save(\"test.json\")\n",
    "\n",
    "fromJson = Survey(\"wordlist.xlsx\")\n",
    "\n",
    "fromJson.from_file(\"test.json\")\n",
    "\n",
    "print(fromJson)"
   ]
  }
 ],
 "metadata": {
  "kernelspec": {
   "display_name": "base",
   "language": "python",
   "name": "python3"
  },
  "language_info": {
   "codemirror_mode": {
    "name": "ipython",
    "version": 3
   },
   "file_extension": ".py",
   "mimetype": "text/x-python",
   "name": "python",
   "nbconvert_exporter": "python",
   "pygments_lexer": "ipython3",
   "version": "3.9.12"
  },
  "orig_nbformat": 4
 },
 "nbformat": 4,
 "nbformat_minor": 2
}
