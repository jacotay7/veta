{
 "cells": [
  {
   "cell_type": "markdown",
   "metadata": {},
   "source": [
    "# Worked Example\n",
    "This notebook contains a basic analysis of some example LEAS data. The data was fabricated for the purposes of this notebook and consists of two example respodents, each with 10 LEAS responses. Additionally, a reduced version of the German LEAS wordlist will be used for analysis.\n",
    "\n",
    "To begin, we will load the faux LEAS survey response data and the wordlist into a veta survey object"
   ]
  },
  {
   "cell_type": "code",
   "execution_count": 3,
   "metadata": {},
   "outputs": [
    {
     "name": "stdout",
     "output_type": "stream",
     "text": [
      "Respondent ID 0:\n",
      "\n",
      "Item 1:\n",
      "Self: ich würde denken  dass ich falsch gehandelt habe \n",
      "Other: er würde nichts fühlen \n",
      "\n",
      "Item 2:\n",
      "Self: ich hätte kopfschmerzen \n",
      "Other: sein ganzer körper würde zittern \n",
      "\n",
      "Item 3:\n",
      "Self: ich würde mich nicht gut fühlen\n",
      "Other: er würde sich schlecht fühlen \n",
      "\n",
      "Item 4:\n",
      "Self: ich will  dass sie mich umarmet\n",
      "Other: sie ist glücklich\n",
      "\n",
      "Item 5:\n",
      "Self: ich will nach hause  denn ich habe angst \n",
      "Other: sie hat auch angst und will nach hause \n",
      "\n",
      "Item 6:\n",
      "Self: ich bin traurig und wütend\n",
      "Other: \n",
      "\n",
      "Item 7:\n",
      "Self: ich würde weinen  weil ich so glücklich bin \n",
      "Other: meine freundin würde sich gut fühlen\n",
      "\n",
      "Item 8:\n",
      "Self: an so etwas glaube ich nicht \n",
      "Other: ich weiß nicht  wie sie sich fühlen würde \n",
      "\n",
      "Item 9:\n",
      "Self: ich würde schmerz verspüren\n",
      "Other: er fühlt sich schuldig\n",
      "\n",
      "Item 10:\n",
      "Self: ich wäre erleichtert \n",
      "Other: er würde weinen\n",
      "\n",
      "Respondent ID 1:\n",
      "\n",
      "Item 1:\n",
      "Self: ich fühle mich schuldig und bin enttäuscht von mir \n",
      "Other: er fühlt sich schlecht \n",
      "\n",
      "Item 2:\n",
      "Self: wir fühlen uns beide gut \n",
      "Other: \n",
      "\n",
      "Item 3:\n",
      "Self: ich bin wütend auf mich selbst \n",
      "Other: meine freundin ist enttäuscht \n",
      "\n",
      "Item 4:\n",
      "Self: ich erwarte von ihm  dass er mir hilft  \n",
      "Other: er scheint nichts zu merken  \n",
      "\n",
      "Item 5:\n",
      "Self: gut \n",
      "Other: glücklich\n",
      "\n",
      "Item 6:\n",
      "Self: ich würde schmerz verspüren \n",
      "Other: sie hätte mitleid mit mir \n",
      "\n",
      "Item 7:\n",
      "Self: ich bin erleichtert und will die welt umarmen \n",
      "Other: er kann mich nicht verstehen  \n",
      "\n",
      "Item 8:\n",
      "Self: ich bin glücklich und erleichtert\n",
      "Other: er ist wütend und enttäuscht \n",
      "\n",
      "Item 9:\n",
      "Self: ich zittere vor wut \n",
      "Other: sie bleibt gelassen \n",
      "\n",
      "Item 10:\n",
      "Self: schlecht\n",
      "Other: nichts\n"
     ]
    }
   ],
   "source": [
    "#Adding the veta directory to the environment path\n",
    "import sys\n",
    "sys.path.insert(0,'../')\n",
    "\n",
    "from survey import Survey\n",
    "\n",
    "example_survey = Survey(\"wordlist.xlsx\")\n",
    "\n",
    "example_survey.from_file(\"leas_survey_example.xlsx\")\n",
    "\n",
    "print(example_survey)"
   ]
  },
  {
   "cell_type": "markdown",
   "metadata": {},
   "source": [
    "### Scoring\n",
    "\n",
    "Next we will decide which scoring modules to execute on the survey data"
   ]
  },
  {
   "cell_type": "code",
   "execution_count": 7,
   "metadata": {},
   "outputs": [
    {
     "name": "stdout",
     "output_type": "stream",
     "text": [
      "{'allsum': array([40., 42.]), 'highestN': array([40., 42.]), '334': array([22., 28.]), '3345plus': array([22., 28.])}\n"
     ]
    }
   ],
   "source": [
    "#Import the desired scoring methods\n",
    "from scoring_modules.allsum import allsum\n",
    "from scoring_modules.highestN import highestN\n",
    "from scoring_modules._3345plus import _3345plus\n",
    "from scoring_modules._334 import _334\n",
    "\n",
    "\n",
    "modules = [allsum(), highestN(4), _334(), _3345plus()]\n",
    "\n",
    "example_survey.score(*modules)\n",
    "\n",
    "example_survey.compute_summary()\n",
    "\n",
    "print(example_survey.summary)"
   ]
  },
  {
   "cell_type": "code",
   "execution_count": null,
   "metadata": {},
   "outputs": [],
   "source": []
  }
 ],
 "metadata": {
  "kernelspec": {
   "display_name": "Python 3.9.12 ('base')",
   "language": "python",
   "name": "python3"
  },
  "language_info": {
   "codemirror_mode": {
    "name": "ipython",
    "version": 3
   },
   "file_extension": ".py",
   "mimetype": "text/x-python",
   "name": "python",
   "nbconvert_exporter": "python",
   "pygments_lexer": "ipython3",
   "version": "3.9.12"
  },
  "orig_nbformat": 4,
  "vscode": {
   "interpreter": {
    "hash": "51acfa6005ffec5e74e71d844e0daa05d24ac78244a0bb1b7874b497027552e7"
   }
  }
 },
 "nbformat": 4,
 "nbformat_minor": 2
}
