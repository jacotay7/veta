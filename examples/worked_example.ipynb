{
 "cells": [
  {
   "attachments": {},
   "cell_type": "markdown",
   "metadata": {},
   "source": [
    "# Worked Example\n",
    "This notebook contains a basic analysis of some example LEAS data. The data was fabricated for the purposes of this notebook and consists of two example respondents, each with 10 LEAS responses. Additionally, a reduced version of the German LEAS wordlist will be used for analysis.\n",
    "\n",
    "To begin, we will load the faux LEAS survey response data and the wordlist into a veta survey object"
   ]
  },
  {
   "cell_type": "code",
   "execution_count": null,
   "metadata": {},
   "outputs": [],
   "source": [
    "from veta.survey import Survey\n",
    "\n",
    "example_survey = Survey(\"wordlist.xlsx\")\n",
    "\n",
    "example_survey.from_file(\"leas_survey_example.xlsx\")\n",
    "\n",
    "print(example_survey)"
   ]
  },
  {
   "attachments": {},
   "cell_type": "markdown",
   "metadata": {},
   "source": [
    "### Scoring\n",
    "\n",
    "Next we will decide which scoring modules to execute on the survey data"
   ]
  },
  {
   "cell_type": "code",
   "execution_count": null,
   "metadata": {},
   "outputs": [],
   "source": [
    "#Import the desired scoring methods\n",
    "from veta.scoring_modules.allsum import allsum\n",
    "from veta.scoring_modules.allsum_unique import allsum_unique\n",
    "from veta.scoring_modules.highestN import highestN\n",
    "from veta.scoring_modules._3345plus import _3345plus\n",
    "from veta.scoring_modules._334 import _334\n",
    "from veta.scoring_modules.mlr import mlr\n",
    "from veta.scoring_modules.sentiment import sentiment\n",
    "\n",
    "modules = [allsum(), allsum_unique(), allsum_unique(only_high_scores=True), highestN(4),  _334(), _334(mode = 'self'), _334(mode = 'other'), _3345plus(), mlr(), sentiment(lang = 'de')]\n",
    "\n",
    "example_survey.score(*modules)\n",
    "\n",
    "example_survey.compute_summary()\n",
    "\n",
    "print(example_survey.summary)\n",
    "\n",
    "example_survey.save(\"worked_example.xlsx\")"
   ]
  },
  {
   "cell_type": "code",
   "execution_count": null,
   "metadata": {},
   "outputs": [],
   "source": []
  }
 ],
 "metadata": {
  "kernelspec": {
   "display_name": "Python 3",
   "language": "python",
   "name": "python3"
  },
  "language_info": {
   "codemirror_mode": {
    "name": "ipython",
    "version": 3
   },
   "file_extension": ".py",
   "mimetype": "text/x-python",
   "name": "python",
   "nbconvert_exporter": "python",
   "pygments_lexer": "ipython3",
   "version": "3.9.12"
  },
  "orig_nbformat": 4,
  "vscode": {
   "interpreter": {
    "hash": "c2f610f15281af5cb48d9946ea6fc944bf7f3194e1c5110b7e3dffccd31f5179"
   }
  }
 },
 "nbformat": 4,
 "nbformat_minor": 2
}
